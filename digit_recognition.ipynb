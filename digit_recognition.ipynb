{
 "cells": [
  {
   "cell_type": "code",
   "execution_count": 2,
   "metadata": {},
   "outputs": [],
   "source": [
    "from PIL import Image\n",
    "import numpy as np"
   ]
  },
  {
   "cell_type": "code",
   "execution_count": null,
   "metadata": {},
   "outputs": [],
   "source": [
    "def createExamples():\n",
    "    numberArrayExamples = open('numArEx.txt','a')\n",
    "    numbersWeHave = range(1,10)\n",
    "    for eachNum in numbersWeHave:\n",
    "        #print eachNum\n",
    "        for furtherNum in numbersWeHave:\n",
    "            # you could also literally add it *.1 and have it create\n",
    "            # an actual float, but, since in the end we are going\n",
    "            # to use it as a string, this way will work.\n",
    "            print(str(eachNum)+'.'+str(furtherNum))\n",
    "            imgFilePath = 'images/numbers/'+str(eachNum)+'.'+str(furtherNum)+'.png'\n",
    "            ei = Image.open(imgFilePath)\n",
    "            eiar = np.array(ei)\n",
    "            eiarl = str(eiar.tolist())\n",
    "\n",
    "            print(eiarl)\n",
    "            lineToWrite = str(eachNum)+'::'+eiarl+'\\n'\n",
    "            numberArrayExamples.write(lineToWrite)"
   ]
  },
  {
   "cell_type": "code",
   "execution_count": null,
   "metadata": {},
   "outputs": [],
   "source": [
    "def thresholding(image_array):\n",
    "    std = []\n",
    "    new_array = image_array\n",
    "    for row in image_array:\n",
    "        for pixel in row:\n",
    "            avg = reduce(lambda x, y : x+y, pixel[:3])/3\n",
    "            std.append(avg)\n",
    "    balance = mean(std)\n",
    "    for row in new_array:\n",
    "        for pixel in row:\n",
    "            if reduce(lambda x, y : x+y, pixel[:3])/3 > balance:\n",
    "                pixel[0] = 255\n",
    "                pixel[1] = 255\n",
    "                pixel[2] = 255\n",
    "                pixel[3] = 255\n",
    "            else:\n",
    "                pixel[0] = 0\n",
    "                pixel[1] = 0\n",
    "                pixel[2] = 0\n",
    "                pixel[3] = 255\n",
    "    return new_array    "
   ]
  },
  {
   "cell_type": "code",
   "execution_count": 11,
   "metadata": {},
   "outputs": [
    {
     "name": "stdout",
     "output_type": "stream",
     "text": [
      "[[[255 255 255 255]\n",
      "  [255 255 255 255]\n",
      "  [  0   0   0 255]\n",
      "  [  0   0   0 255]\n",
      "  [  0   0   0 255]\n",
      "  [  0   0   0 255]\n",
      "  [255 255 255 255]\n",
      "  [255 255 255 255]]\n",
      "\n",
      " [[255 255 255 255]\n",
      "  [  0   0   0 255]\n",
      "  [255 255 255 255]\n",
      "  [255 255 255 255]\n",
      "  [255 255 255 255]\n",
      "  [255 255 255 255]\n",
      "  [  0   0   0 255]\n",
      "  [255 255 255 255]]\n",
      "\n",
      " [[  0   0   0 255]\n",
      "  [255 255 255 255]\n",
      "  [255 255 255 255]\n",
      "  [255 255 255 255]\n",
      "  [255 255 255 255]\n",
      "  [255 255 255 255]\n",
      "  [255 255 255 255]\n",
      "  [  0   0   0 255]]\n",
      "\n",
      " [[  0   0   0 255]\n",
      "  [255 255 255 255]\n",
      "  [255 255 255 255]\n",
      "  [255 255 255 255]\n",
      "  [255 255 255 255]\n",
      "  [255 255 255 255]\n",
      "  [255 255 255 255]\n",
      "  [  0   0   0 255]]\n",
      "\n",
      " [[  0   0   0 255]\n",
      "  [255 255 255 255]\n",
      "  [255 255 255 255]\n",
      "  [255 255 255 255]\n",
      "  [255 255 255 255]\n",
      "  [255 255 255 255]\n",
      "  [255 255 255 255]\n",
      "  [  0   0   0 255]]\n",
      "\n",
      " [[  0   0   0 255]\n",
      "  [255 255 255 255]\n",
      "  [255 255 255 255]\n",
      "  [255 255 255 255]\n",
      "  [255 255 255 255]\n",
      "  [255 255 255 255]\n",
      "  [255 255 255 255]\n",
      "  [  0   0   0 255]]\n",
      "\n",
      " [[255 255 255 255]\n",
      "  [  0   0   0 255]\n",
      "  [255 255 255 255]\n",
      "  [255 255 255 255]\n",
      "  [255 255 255 255]\n",
      "  [255 255 255 255]\n",
      "  [  0   0   0 255]\n",
      "  [255 255 255 255]]\n",
      "\n",
      " [[255 255 255 255]\n",
      "  [255 255 255 255]\n",
      "  [  0   0   0 255]\n",
      "  [  0   0   0 255]\n",
      "  [  0   0   0 255]\n",
      "  [  0   0   0 255]\n",
      "  [255 255 255 255]\n",
      "  [255 255 255 255]]]\n"
     ]
    }
   ],
   "source": [
    "image = Image.open(\"E:/tutorialimages/images/numbers/0.1.png\", mode = 'r')\n",
    "im_ar = np.asarray(image)\n",
    "print(im_ar)"
   ]
  },
  {
   "cell_type": "code",
   "execution_count": null,
   "metadata": {},
   "outputs": [],
   "source": []
  }
 ],
 "metadata": {
  "kernelspec": {
   "display_name": "Python 3",
   "language": "python",
   "name": "python3"
  },
  "language_info": {
   "codemirror_mode": {
    "name": "ipython",
    "version": 3
   },
   "file_extension": ".py",
   "mimetype": "text/x-python",
   "name": "python",
   "nbconvert_exporter": "python",
   "pygments_lexer": "ipython3",
   "version": "3.5.6"
  }
 },
 "nbformat": 4,
 "nbformat_minor": 2
}
